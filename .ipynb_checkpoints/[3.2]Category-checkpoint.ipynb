{
 "cells": [
  {
   "cell_type": "markdown",
   "id": "6333aebf-f2c0-48a5-8bdc-34bb2d43ebe8",
   "metadata": {},
   "source": [
    "Lola Tamis also wants a table whose columns are each month covered by the transactional data and whose rows are the following metrics:\n",
    "1. Repeaters - the number of customers from the current month who also purchased in the previous month. This metric is 0 for the earliest month in the transactional data.\n",
    "2. Inactive - the number of customers in the total set of transactions up to and including the current month who have purchase history but do not have a purchase for the current month. This metric is 0 for the earliest month in the transactional data.\n",
    "3. Engaged - the number of customers in the total set of transactions up to and including the current month who have consistently purchased every single month.\n"
   ]
  },
  {
   "cell_type": "code",
   "execution_count": 4,
   "id": "294f9fa7-3b06-44b2-bb19-03c6bb94f8d2",
   "metadata": {},
   "outputs": [],
   "source": [
    "import json\n",
    "import pandas as pd\n",
    "import numpy as np\n",
    "import calendar\n",
    "\n",
    "with open(\"transaction-data-adhoc-analysis.json\",\"r\") as f:\n",
    "    tdata = json.load(f)\n",
    "\n",
    "df = pd.DataFrame(tdata)\n",
    "df['month'] = pd.DatetimeIndex(df['transaction_date']).month # https://www.interviewqs.com/ddi-code-snippets/extract-month-year-pandas"
   ]
  },
  {
   "cell_type": "markdown",
   "id": "475ac3de-9338-442f-ae9f-867b89bb68dd",
   "metadata": {
    "tags": []
   },
   "source": [
    "### Transactional Data"
   ]
  },
  {
   "cell_type": "markdown",
   "id": "7c3165a6-a4d9-4c5b-9a00-58c47b347ace",
   "metadata": {
    "tags": []
   },
   "source": [
    "#### Base"
   ]
  },
  {
   "cell_type": "code",
   "execution_count": 5,
   "id": "d613ae40-53ed-41db-8583-4212a44bc0e0",
   "metadata": {},
   "outputs": [
    {
     "data": {
      "text/html": [
       "<div>\n",
       "<style scoped>\n",
       "    .dataframe tbody tr th:only-of-type {\n",
       "        vertical-align: middle;\n",
       "    }\n",
       "\n",
       "    .dataframe tbody tr th {\n",
       "        vertical-align: top;\n",
       "    }\n",
       "\n",
       "    .dataframe thead th {\n",
       "        text-align: right;\n",
       "    }\n",
       "</style>\n",
       "<table border=\"1\" class=\"dataframe\">\n",
       "  <thead>\n",
       "    <tr style=\"text-align: right;\">\n",
       "      <th></th>\n",
       "      <th>1</th>\n",
       "      <th>2</th>\n",
       "      <th>3</th>\n",
       "      <th>4</th>\n",
       "      <th>5</th>\n",
       "      <th>6</th>\n",
       "    </tr>\n",
       "  </thead>\n",
       "  <tbody>\n",
       "    <tr>\n",
       "      <th>Jennifer Campbell</th>\n",
       "      <td>1</td>\n",
       "      <td>1</td>\n",
       "      <td>1</td>\n",
       "      <td>0</td>\n",
       "      <td>0</td>\n",
       "      <td>1</td>\n",
       "    </tr>\n",
       "    <tr>\n",
       "      <th>Melissa Kim</th>\n",
       "      <td>1</td>\n",
       "      <td>1</td>\n",
       "      <td>1</td>\n",
       "      <td>1</td>\n",
       "      <td>1</td>\n",
       "      <td>0</td>\n",
       "    </tr>\n",
       "    <tr>\n",
       "      <th>Kristen Cooper</th>\n",
       "      <td>1</td>\n",
       "      <td>1</td>\n",
       "      <td>1</td>\n",
       "      <td>1</td>\n",
       "      <td>1</td>\n",
       "      <td>0</td>\n",
       "    </tr>\n",
       "    <tr>\n",
       "      <th>Alexander Davis</th>\n",
       "      <td>1</td>\n",
       "      <td>1</td>\n",
       "      <td>1</td>\n",
       "      <td>1</td>\n",
       "      <td>1</td>\n",
       "      <td>1</td>\n",
       "    </tr>\n",
       "    <tr>\n",
       "      <th>Michael Lowe</th>\n",
       "      <td>1</td>\n",
       "      <td>1</td>\n",
       "      <td>1</td>\n",
       "      <td>1</td>\n",
       "      <td>1</td>\n",
       "      <td>1</td>\n",
       "    </tr>\n",
       "    <tr>\n",
       "      <th>...</th>\n",
       "      <td>...</td>\n",
       "      <td>...</td>\n",
       "      <td>...</td>\n",
       "      <td>...</td>\n",
       "      <td>...</td>\n",
       "      <td>...</td>\n",
       "    </tr>\n",
       "    <tr>\n",
       "      <th>Patricia Carter</th>\n",
       "      <td>0</td>\n",
       "      <td>0</td>\n",
       "      <td>0</td>\n",
       "      <td>0</td>\n",
       "      <td>1</td>\n",
       "      <td>1</td>\n",
       "    </tr>\n",
       "    <tr>\n",
       "      <th>Ryan Stevens</th>\n",
       "      <td>0</td>\n",
       "      <td>0</td>\n",
       "      <td>0</td>\n",
       "      <td>0</td>\n",
       "      <td>1</td>\n",
       "      <td>1</td>\n",
       "    </tr>\n",
       "    <tr>\n",
       "      <th>Sonia Jones</th>\n",
       "      <td>0</td>\n",
       "      <td>0</td>\n",
       "      <td>0</td>\n",
       "      <td>0</td>\n",
       "      <td>1</td>\n",
       "      <td>0</td>\n",
       "    </tr>\n",
       "    <tr>\n",
       "      <th>Sue Douglas</th>\n",
       "      <td>0</td>\n",
       "      <td>0</td>\n",
       "      <td>0</td>\n",
       "      <td>0</td>\n",
       "      <td>0</td>\n",
       "      <td>1</td>\n",
       "    </tr>\n",
       "    <tr>\n",
       "      <th>Brooke Spears</th>\n",
       "      <td>0</td>\n",
       "      <td>0</td>\n",
       "      <td>0</td>\n",
       "      <td>0</td>\n",
       "      <td>0</td>\n",
       "      <td>1</td>\n",
       "    </tr>\n",
       "  </tbody>\n",
       "</table>\n",
       "<p>8487 rows × 6 columns</p>\n",
       "</div>"
      ],
      "text/plain": [
       "                   1  2  3  4  5  6\n",
       "Jennifer Campbell  1  1  1  0  0  1\n",
       "Melissa Kim        1  1  1  1  1  0\n",
       "Kristen Cooper     1  1  1  1  1  0\n",
       "Alexander Davis    1  1  1  1  1  1\n",
       "Michael Lowe       1  1  1  1  1  1\n",
       "...               .. .. .. .. .. ..\n",
       "Patricia Carter    0  0  0  0  1  1\n",
       "Ryan Stevens       0  0  0  0  1  1\n",
       "Sonia Jones        0  0  0  0  1  0\n",
       "Sue Douglas        0  0  0  0  0  1\n",
       "Brooke Spears      0  0  0  0  0  1\n",
       "\n",
       "[8487 rows x 6 columns]"
      ]
     },
     "execution_count": 5,
     "metadata": {},
     "output_type": "execute_result"
    }
   ],
   "source": [
    "# https://stackoverflow.com/questions/50765199/i-need-to-make-a-truth-table-from-pandas-dataframe-based-on-values-on-a-column\n",
    "\n",
    "i, r = pd.factorize(df.name)\n",
    "j, c = pd.factorize(df.month)\n",
    "b = np.zeros((r.size, c.size), int)\n",
    "b[i, j] = 1\n",
    "\n",
    "df6 = pd.DataFrame(b, r, c)\n",
    "df6"
   ]
  },
  {
   "cell_type": "code",
   "execution_count": 31,
   "id": "1fb31900-77ed-4ab3-8e50-754b067e3733",
   "metadata": {},
   "outputs": [],
   "source": [
    "sum1 = df6[[1]].sum(axis=1)\n",
    "sum2 = df6[[1,2]].sum(axis=1)\n",
    "sum3 = df6[[1,2,3]].sum(axis=1)\n",
    "sum4 = df6[[1,2,3,4]].sum(axis=1)\n",
    "sum5 = df6[[1,2,3,4,5]].sum(axis=1)\n",
    "sum6 = df6[[1,2,3,4,5,6]].sum(axis=1)"
   ]
  },
  {
   "cell_type": "markdown",
   "id": "dd9cf3de-e67d-42d0-a013-3d712565ad19",
   "metadata": {
    "tags": []
   },
   "source": [
    "#### Engaged"
   ]
  },
  {
   "cell_type": "code",
   "execution_count": 32,
   "id": "f93c4e77-25f2-4896-9218-c16698780618",
   "metadata": {},
   "outputs": [],
   "source": [
    "eng1 = df6[sum1 == 1]\n",
    "eng2 = df6[sum2 == 2]\n",
    "eng3 = df6[sum3 == 3]\n",
    "eng4 = df6[sum4 == 4]\n",
    "eng5 = df6[sum5 == 5]\n",
    "eng6 = df6[sum6 == 6]"
   ]
  },
  {
   "cell_type": "markdown",
   "id": "e4326abe-13e3-4135-8f29-fe8ce639db5a",
   "metadata": {
    "tags": []
   },
   "source": [
    "#### New"
   ]
  },
  {
   "cell_type": "code",
   "execution_count": 34,
   "id": "7bee639c-50f7-4e1d-801a-c76ea263a6a3",
   "metadata": {},
   "outputs": [],
   "source": [
    "new1 = df6[sum1 == 1]\n",
    "new2 = (df6[sum1 == 0] [df6[sum1 == 0][2]==1])\n",
    "new3 = (df6[sum2 == 0] [df6[sum2 == 0][3]==1])\n",
    "new4 = (df6[sum3 == 0] [df6[sum3 == 0][4]==1])\n",
    "new5 = (df6[sum4 == 0] [df6[sum4 == 0][5]==1])\n",
    "new6 = (df6[sum5 == 0] [df6[sum5 == 0][6]==1])"
   ]
  },
  {
   "cell_type": "markdown",
   "id": "0ecebdf0-e52c-41e7-b7ca-fedf9600a63d",
   "metadata": {
    "tags": []
   },
   "source": [
    "#### Inactive"
   ]
  },
  {
   "cell_type": "code",
   "execution_count": 33,
   "id": "42c9d1ac-7672-45be-9031-d381cb2af261",
   "metadata": {},
   "outputs": [],
   "source": [
    "inac2 = (df6[sum2 != 0] [df6[sum2 != 0][2]==0])\n",
    "inac3 = (df6[sum3 != 0] [df6[sum3 != 0][3]==0])\n",
    "inac4 = (df6[sum4 != 0] [df6[sum4 != 0][4]==0])\n",
    "inac5 = (df6[sum5 != 0] [df6[sum5 != 0][5]==0])\n",
    "inac6 = (df6[sum6 != 0] [df6[sum6 != 0][6]==0])"
   ]
  },
  {
   "cell_type": "markdown",
   "id": "229cf263-9313-4233-a590-b33b5095b8fc",
   "metadata": {
    "tags": []
   },
   "source": [
    "#### Repeater"
   ]
  },
  {
   "cell_type": "code",
   "execution_count": 30,
   "id": "81a5e88e-5acc-455c-9832-f734c20c40ef",
   "metadata": {},
   "outputs": [],
   "source": [
    "rep2 = df6[df6[[1,2]].sum(axis=1) == 2]\n",
    "rep3 = df6[df6[[2,3]].sum(axis=1) == 2]\n",
    "rep4 = df6[df6[[3,4]].sum(axis=1) == 2]\n",
    "rep5 = df6[df6[[4,5]].sum(axis=1) == 2]\n",
    "rep6 = df6[df6[[5,6]].sum(axis=1) == 2]"
   ]
  },
  {
   "cell_type": "markdown",
   "id": "9e357fee-a56f-4fb8-99cc-471ef674aa62",
   "metadata": {},
   "source": [
    "#### Table"
   ]
  },
  {
   "cell_type": "code",
   "execution_count": 35,
   "id": "7527083e-b138-4eea-9ac5-abfe3171a66b",
   "metadata": {},
   "outputs": [
    {
     "data": {
      "text/html": [
       "<div>\n",
       "<style scoped>\n",
       "    .dataframe tbody tr th:only-of-type {\n",
       "        vertical-align: middle;\n",
       "    }\n",
       "\n",
       "    .dataframe tbody tr th {\n",
       "        vertical-align: top;\n",
       "    }\n",
       "\n",
       "    .dataframe thead th {\n",
       "        text-align: right;\n",
       "    }\n",
       "</style>\n",
       "<table border=\"1\" class=\"dataframe\">\n",
       "  <thead>\n",
       "    <tr style=\"text-align: right;\">\n",
       "      <th></th>\n",
       "      <th>January</th>\n",
       "      <th>February</th>\n",
       "      <th>March</th>\n",
       "      <th>April</th>\n",
       "      <th>May</th>\n",
       "      <th>June</th>\n",
       "    </tr>\n",
       "    <tr>\n",
       "      <th>Category</th>\n",
       "      <th></th>\n",
       "      <th></th>\n",
       "      <th></th>\n",
       "      <th></th>\n",
       "      <th></th>\n",
       "      <th></th>\n",
       "    </tr>\n",
       "  </thead>\n",
       "  <tbody>\n",
       "    <tr>\n",
       "      <th>Repeaters</th>\n",
       "      <td>0</td>\n",
       "      <td>5172</td>\n",
       "      <td>5216</td>\n",
       "      <td>5154</td>\n",
       "      <td>5110</td>\n",
       "      <td>5193</td>\n",
       "    </tr>\n",
       "    <tr>\n",
       "      <th>Inactive</th>\n",
       "      <td>0</td>\n",
       "      <td>1416</td>\n",
       "      <td>1747</td>\n",
       "      <td>1909</td>\n",
       "      <td>1917</td>\n",
       "      <td>1835</td>\n",
       "    </tr>\n",
       "    <tr>\n",
       "      <th>Engaged</th>\n",
       "      <td>6588</td>\n",
       "      <td>5172</td>\n",
       "      <td>4126</td>\n",
       "      <td>3289</td>\n",
       "      <td>2667</td>\n",
       "      <td>2190</td>\n",
       "    </tr>\n",
       "    <tr>\n",
       "      <th>New</th>\n",
       "      <td>6588</td>\n",
       "      <td>1459</td>\n",
       "      <td>322</td>\n",
       "      <td>96</td>\n",
       "      <td>20</td>\n",
       "      <td>2</td>\n",
       "    </tr>\n",
       "  </tbody>\n",
       "</table>\n",
       "</div>"
      ],
      "text/plain": [
       "           January  February  March  April   May  June\n",
       "Category                                              \n",
       "Repeaters        0      5172   5216   5154  5110  5193\n",
       "Inactive         0      1416   1747   1909  1917  1835\n",
       "Engaged       6588      5172   4126   3289  2667  2190\n",
       "New           6588      1459    322     96    20     2"
      ]
     },
     "execution_count": 35,
     "metadata": {},
     "output_type": "execute_result"
    }
   ],
   "source": [
    "table = pd.DataFrame(\n",
    "    {'January': [0,0,len(eng1),len(new1)],\n",
    "     'February': [len(rep2),len(inac2),len(eng2),len(new2)],\n",
    "     'March': [len(rep3),len(inac3),len(eng3),len(new3)],\n",
    "     'April': [len(rep4),len(inac4),len(eng4),len(new4)],\n",
    "     'May': [len(rep5),len(inac5),len(eng5),len(new5)],\n",
    "     'June': [len(rep6),len(inac6),len(eng6),len(new6)],\n",
    "    }, index = pd.Index(['Repeaters','Inactive','Engaged','New']))\n",
    "\n",
    "compiled = table.rename_axis('Category')\n",
    "compiled"
   ]
  },
  {
   "cell_type": "markdown",
   "id": "d2cbf607-6b38-4b00-b348-0052e3168d80",
   "metadata": {
    "tags": []
   },
   "source": [
    "### Analysis"
   ]
  },
  {
   "cell_type": "code",
   "execution_count": 33,
   "id": "950c5b13-30dd-43dc-b097-14061edd2129",
   "metadata": {},
   "outputs": [],
   "source": [
    "import matplotlib.pyplot as plt\n",
    "%matplotlib inline\n",
    "plt.style.use('seaborn')"
   ]
  },
  {
   "cell_type": "markdown",
   "id": "ce46dda3-2e7d-4999-9f59-ab61ac6a9b49",
   "metadata": {
    "tags": []
   },
   "source": [
    "#### Charts per Category"
   ]
  },
  {
   "cell_type": "code",
   "execution_count": 34,
   "id": "bb6bbbf7-6eb7-4c56-a778-ae70d4923cf7",
   "metadata": {},
   "outputs": [
    {
     "data": {
      "image/png": "[encoded data removed]",
      "text/plain": [
       "<Figure size 576x396 with 1 Axes>"
      ]
     },
     "metadata": {},
     "output_type": "display_data"
    }
   ],
   "source": [
    "row = compiled.iloc[0]\n",
    "row.plot(kind='line', rot=45, color='#9933FF')\n",
    "plt.ylabel(\"No. of Customers\")\n",
    "plt.title(\"Repeaters\")\n",
    "plt.show()"
   ]
  },
  {
   "cell_type": "code",
   "execution_count": 35,
   "id": "ffdf1e7c-9057-4e61-89ee-a785c5a4ceae",
   "metadata": {},
   "outputs": [
    {
     "data": {
      "image/png": "[encoded data removed]",
      "text/plain": [
       "<Figure size 576x396 with 1 Axes>"
      ]
     },
     "metadata": {},
     "output_type": "display_data"
    }
   ],
   "source": [
    "row = compiled.iloc[1]\n",
    "row.plot(kind='line', rot=45, color='#9933FF')\n",
    "plt.ylabel(\"No. of Customers\")\n",
    "plt.title(\"Inactive\")\n",
    "plt.show()"
   ]
  },
  {
   "cell_type": "code",
   "execution_count": 36,
   "id": "0264cc06-99f9-4369-99db-06bc180fe9cc",
   "metadata": {},
   "outputs": [
    {
     "data": {
      "image/png": "[encoded data removed]",
      "text/plain": [
       "<Figure size 576x396 with 1 Axes>"
      ]
     },
     "metadata": {},
     "output_type": "display_data"
    }
   ],
   "source": [
    "row = compiled.iloc[2]\n",
    "row.plot(kind='line', rot=45,color='#9933FF')\n",
    "plt.ylabel(\"No. of Customers\")\n",
    "plt.title(\"Engaged\")\n",
    "plt.show()"
   ]
  },
  {
   "cell_type": "code",
   "execution_count": 37,
   "id": "9c1ba2dd-910d-4f31-9e91-23373b42f126",
   "metadata": {},
   "outputs": [
    {
     "data": {
      "image/png": "[encoded data removed]",
      "text/plain": [
       "<Figure size 576x396 with 1 Axes>"
      ]
     },
     "metadata": {},
     "output_type": "display_data"
    }
   ],
   "source": [
    "row = compiled.iloc[3]\n",
    "row.plot(kind='line', rot=45,color='#9933FF')\n",
    "plt.ylabel(\"No. of Customers\")\n",
    "plt.title(\"New\")\n",
    "plt.show()"
   ]
  },
  {
   "cell_type": "code",
   "execution_count": null,
   "id": "eef43894-dafa-4619-b9af-a65c3f0d1d6c",
   "metadata": {},
   "outputs": [],
   "source": []
  }
 ],
 "metadata": {
  "kernelspec": {
   "display_name": "Python 3 (ipykernel)",
   "language": "python",
   "name": "python3"
  },
  "language_info": {
   "codemirror_mode": {
    "name": "ipython",
    "version": 3
   },
   "file_extension": ".py",
   "mimetype": "text/x-python",
   "name": "python",
   "nbconvert_exporter": "python",
   "pygments_lexer": "ipython3",
   "version": "3.9.12"
  }
 },
 "nbformat": 4,
 "nbformat_minor": 5
}
